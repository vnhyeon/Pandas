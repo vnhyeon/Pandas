{
 "cells": [
  {
   "cell_type": "markdown",
   "metadata": {},
   "source": [
    "apply 메서드는 사용자가 작성한 함수를 한 번에 df의 각 행과 열에 적용하여\n",
    "실행할 수 있게 해줌. 즉, 함수를 브로드캐스팅해야 하는 경우에 사용.\n",
    "\n",
    "물론, for문으로 각 데이터에 함수를 적용할 수 있지만 대용량 데이터 처리시\n",
    "apply 메서드가 유리함."
   ]
  },
  {
   "cell_type": "markdown",
   "metadata": {},
   "source": [
    "# 제곱 함수와 n 제곱 함수 만들기"
   ]
  },
  {
   "cell_type": "code",
   "execution_count": 1,
   "metadata": {},
   "outputs": [
    {
     "name": "stdout",
     "output_type": "stream",
     "text": [
      "16\n",
      "27\n"
     ]
    }
   ],
   "source": [
    "def my_sq(x):\n",
    "    return x ** 2\n",
    "\n",
    "def my_exp(x,n):\n",
    "    return x ** n\n",
    "\n",
    "print(my_sq(4))\n",
    "print(my_exp(3,3))"
   ]
  },
  {
   "cell_type": "markdown",
   "metadata": {},
   "source": [
    "# 시리즈와 apply 메서드"
   ]
  },
  {
   "cell_type": "code",
   "execution_count": 5,
   "metadata": {},
   "outputs": [
    {
     "name": "stdout",
     "output_type": "stream",
     "text": [
      "    a   b\n",
      "0  10  20\n",
      "1  20  30\n",
      "2  30  40\n",
      "0    100\n",
      "1    400\n",
      "2    900\n",
      "Name: a, dtype: int64\n",
      "0    100\n",
      "1    400\n",
      "2    900\n",
      "Name: a, dtype: int64\n",
      "0    100\n",
      "1    400\n",
      "2    900\n",
      "Name: a, dtype: int64\n"
     ]
    }
   ],
   "source": [
    "# apply로 브로드캐스팅한 결과와 s, df의 기초 연산 결과와 비교하며 진행\n",
    "\n",
    "# 먼저 df 준비\n",
    "import pandas as pd\n",
    "df = pd.DataFrame({'a':[10,20,30], 'b':[20,30,40]})\n",
    "print(df)\n",
    "\n",
    "# 두 결과 비교\n",
    "print(df['a']**2)\n",
    "\n",
    "sq = df['a'].apply(my_sq) # apply 메서드에 함수 이름 전달. 이게 곧 x\n",
    "print(sq)\n",
    "\n",
    "# 두개의 인자를 apply에 전달하는 경우\n",
    "ex = df['a'].apply(my_exp, n=2) \n",
    "print(ex)\n",
    "\n"
   ]
  },
  {
   "cell_type": "markdown",
   "metadata": {},
   "source": [
    "# 데이터 프레임과 apply 메서드"
   ]
  },
  {
   "cell_type": "code",
   "execution_count": 15,
   "metadata": {},
   "outputs": [
    {
     "name": "stdout",
     "output_type": "stream",
     "text": [
      "    a   b\n",
      "0  10  20\n",
      "1  20  30\n",
      "2  30  40\n",
      "0    10\n",
      "1    20\n",
      "2    30\n",
      "Name: a, dtype: int64\n",
      "0    20\n",
      "1    30\n",
      "2    40\n",
      "Name: b, dtype: int64\n",
      "a    None\n",
      "b    None\n",
      "dtype: object\n",
      "0    10\n",
      "1    20\n",
      "2    30\n",
      "Name: a, dtype: int64\n",
      "0    20\n",
      "1    30\n",
      "2    40\n",
      "Name: b, dtype: int64\n",
      "a    20.0\n",
      "b    30.0\n",
      "dtype: float64\n"
     ]
    }
   ],
   "source": [
    "df = pd.DataFrame({'a':[10,20,30], 'b':[20,30,40]})\n",
    "print(df)\n",
    "\n",
    "def print_me(x):\n",
    "    print(x)\n",
    "\n",
    "print(df.apply(print_me, axis=0))\n",
    "print(df['a'])\n",
    "print(df['b'])\n",
    "\n",
    "# 3개의 인자를 받는 함수\n",
    "def avg_3(x,y,z):\n",
    "    return (x+y+z)/3\n",
    "\n",
    "# print(df.apply(avg_3)) 실행 시 오류가 난다. why? 1개의 인잣값만 받아서\n",
    "# 즉, df['a'] 등이 전달되었고 이 값을 1개의 인잣값으로 인식했으니\n",
    "# avg_3 함수가 열 단위로 데이터를 처리할 수 있게 수정해야함\n",
    "def avg_3_apply(col):\n",
    "    x = col[0]\n",
    "    y = col[1]\n",
    "    z = col[2]\n",
    "    return(x+y+z)/3\n",
    "print(df.apply(avg_3_apply))"
   ]
  },
  {
   "cell_type": "code",
   "execution_count": 16,
   "metadata": {},
   "outputs": [
    {
     "name": "stdout",
     "output_type": "stream",
     "text": [
      "0    15.0\n",
      "1    25.0\n",
      "2    35.0\n",
      "dtype: float64\n"
     ]
    }
   ],
   "source": [
    "# 앞의 과정에서는 df의 행 개수가 3이라는 걸 알고 있으니 가능한 과정\n",
    "# 하지만 일반적으로는 for문을 이용하여 아래와 같이 작성한다\n",
    "\n",
    "def avg_3_apply(col):\n",
    "    sum = 0\n",
    "    for item in col:\n",
    "        sum += item\n",
    "    return sum/df.shape[0]\n",
    "\n",
    "# 위 함수를 응용하면 행 방향으로 데이터를 처리하는 함수 제작 가능\n",
    "def avg_2_apply(row):\n",
    "    sum = 0\n",
    "    for item in row:\n",
    "        sum += item\n",
    "    return sum/df.shape[1]\n",
    "print(df.apply(avg_2_apply, axis=1))"
   ]
  },
  {
   "cell_type": "markdown",
   "metadata": {},
   "source": [
    "# 데이터프레임의 누락값을 처리한 다음 apply 메서드 사용하기 - 열 방향"
   ]
  },
  {
   "cell_type": "code",
   "execution_count": 22,
   "metadata": {},
   "outputs": [
    {
     "name": "stdout",
     "output_type": "stream",
     "text": [
      "<class 'pandas.core.frame.DataFrame'>\n",
      "RangeIndex: 891 entries, 0 to 890\n",
      "Data columns (total 15 columns):\n",
      " #   Column       Non-Null Count  Dtype   \n",
      "---  ------       --------------  -----   \n",
      " 0   survived     891 non-null    int64   \n",
      " 1   pclass       891 non-null    int64   \n",
      " 2   sex          891 non-null    object  \n",
      " 3   age          714 non-null    float64 \n",
      " 4   sibsp        891 non-null    int64   \n",
      " 5   parch        891 non-null    int64   \n",
      " 6   fare         891 non-null    float64 \n",
      " 7   embarked     889 non-null    object  \n",
      " 8   class        891 non-null    category\n",
      " 9   who          891 non-null    object  \n",
      " 10  adult_male   891 non-null    bool    \n",
      " 11  deck         203 non-null    category\n",
      " 12  embark_town  889 non-null    object  \n",
      " 13  alive        891 non-null    object  \n",
      " 14  alone        891 non-null    bool    \n",
      "dtypes: bool(2), category(2), float64(2), int64(4), object(5)\n",
      "memory usage: 80.7+ KB\n",
      "None\n",
      "survived         0\n",
      "pclass           0\n",
      "sex              0\n",
      "age            177\n",
      "sibsp            0\n",
      "parch            0\n",
      "fare             0\n",
      "embarked         2\n",
      "class            0\n",
      "who              0\n",
      "adult_male       0\n",
      "deck           688\n",
      "embark_town      2\n",
      "alive            0\n",
      "alone            0\n",
      "dtype: int64\n",
      "survived       0.000000\n",
      "pclass         0.000000\n",
      "sex            0.000000\n",
      "age            0.198653\n",
      "sibsp          0.000000\n",
      "parch          0.000000\n",
      "fare           0.000000\n",
      "embarked       0.002245\n",
      "class          0.000000\n",
      "who            0.000000\n",
      "adult_male     0.000000\n",
      "deck           0.772166\n",
      "embark_town    0.002245\n",
      "alive          0.000000\n",
      "alone          0.000000\n",
      "dtype: float64\n"
     ]
    }
   ],
   "source": [
    "# seaborn 라이브러리에 있는 데이터 사용\n",
    "import seaborn as sns\n",
    "titanic = sns.load_dataset(\"titanic\")\n",
    "\n",
    "print(titanic.info())\n",
    "\n",
    "\n",
    "# 누락값의 개수를 반환하는 count_missing 함수\n",
    "# isnull 메서드에 df 전달 후 T/F 출력\n",
    "# 이 값을 numpy의 sum 메서드에 전달하면 누락값 개수 출력\n",
    "import numpy as np\n",
    "\n",
    "def count_missing(vec):\n",
    "    null_vec = pd.isnull(vec)\n",
    "    null_count = np.sum(null_vec)\n",
    "    return null_count\n",
    "\n",
    "\n",
    "cmis_col = titanic.apply(count_missing) # apply 메서드에 함수 전달\n",
    "print(cmis_col)\n",
    "\n",
    "\n",
    "# 누락값의 비율을 계산하는 prop_missing 함수\n",
    "# size 속성을 이용해 df의 전체 데이터 수를 구해 나누면 비율이 돼\n",
    "\n",
    "def prop_missing(vec):\n",
    "    num = count_missing(vec)\n",
    "    dem = vec.size\n",
    "    return num / dem\n",
    "\n",
    "pmis_col = titanic.apply(prop_missing) # apply 메서드에 함수 전달\n",
    "print(pmis_col)\n",
    "\n",
    "# 전체 비율에서 누락값의 비율을 빼면 누락값이 아닌 데이터의 비율\n",
    "def prop_complete(vec):\n",
    "    return 1 - prop_missing(vec)\n"
   ]
  },
  {
   "cell_type": "markdown",
   "metadata": {},
   "source": [
    "# 데이터프레임의 누락값을 처리한 다음 apply 메서드 사용하기 - 행 방뱡"
   ]
  },
  {
   "cell_type": "code",
   "execution_count": 26,
   "metadata": {},
   "outputs": [
    {
     "name": "stdout",
     "output_type": "stream",
     "text": [
      "0    1\n",
      "1    0\n",
      "2    1\n",
      "3    0\n",
      "4    1\n",
      "dtype: int64\n",
      "0    0.0625\n",
      "1    0.0000\n",
      "2    0.0625\n",
      "3    0.0000\n",
      "4    0.0625\n",
      "dtype: float64\n",
      "0    0.9375\n",
      "1    1.0000\n",
      "2    0.9375\n",
      "3    1.0000\n",
      "4    0.9375\n",
      "dtype: float64\n",
      "   survived  pclass     sex   age  sibsp  parch     fare embarked  class  \\\n",
      "0         0       3    male  22.0      1      0   7.2500        S  Third   \n",
      "1         1       1  female  38.0      1      0  71.2833        C  First   \n",
      "2         1       3  female  26.0      0      0   7.9250        S  Third   \n",
      "3         1       1  female  35.0      1      0  53.1000        S  First   \n",
      "4         0       3    male  35.0      0      0   8.0500        S  Third   \n",
      "\n",
      "     who  adult_male deck  embark_town alive  alone  num_missing  \n",
      "0    man        True  NaN  Southampton    no  False            1  \n",
      "1  woman       False    C    Cherbourg   yes  False            0  \n",
      "2  woman       False  NaN  Southampton   yes   True            1  \n",
      "3  woman       False    C  Southampton   yes  False            0  \n",
      "4    man        True  NaN  Southampton    no   True            1  \n",
      "     survived  pclass     sex  age  sibsp  parch     fare embarked   class  \\\n",
      "5           0       3    male  NaN      0      0   8.4583        Q   Third   \n",
      "17          1       2    male  NaN      0      0  13.0000        S  Second   \n",
      "19          1       3  female  NaN      0      0   7.2250        C   Third   \n",
      "26          0       3    male  NaN      0      0   7.2250        C   Third   \n",
      "28          1       3  female  NaN      0      0   7.8792        Q   Third   \n",
      "..        ...     ...     ...  ...    ...    ...      ...      ...     ...   \n",
      "859         0       3    male  NaN      0      0   7.2292        C   Third   \n",
      "863         0       3  female  NaN      8      2  69.5500        S   Third   \n",
      "868         0       3    male  NaN      0      0   9.5000        S   Third   \n",
      "878         0       3    male  NaN      0      0   7.8958        S   Third   \n",
      "888         0       3  female  NaN      1      2  23.4500        S   Third   \n",
      "\n",
      "       who  adult_male deck  embark_town alive  alone  num_missing  \n",
      "5      man        True  NaN   Queenstown    no   True            2  \n",
      "17     man        True  NaN  Southampton   yes   True            2  \n",
      "19   woman       False  NaN    Cherbourg   yes   True            2  \n",
      "26     man        True  NaN    Cherbourg    no   True            2  \n",
      "28   woman       False  NaN   Queenstown   yes   True            2  \n",
      "..     ...         ...  ...          ...   ...    ...          ...  \n",
      "859    man        True  NaN    Cherbourg    no   True            2  \n",
      "863  woman       False  NaN  Southampton    no  False            2  \n",
      "868    man        True  NaN  Southampton    no   True            2  \n",
      "878    man        True  NaN  Southampton    no   True            2  \n",
      "888  woman       False  NaN  Southampton    no  False            2  \n",
      "\n",
      "[160 rows x 16 columns]\n"
     ]
    }
   ],
   "source": [
    "cmis_row = titanic.apply(count_missing, axis=1)\n",
    "pmis_row = titanic.apply(prop_missing, axis=1)\n",
    "pcom_row = titanic.apply(prop_complete, axis=1)\n",
    "\n",
    "print(cmis_row.head())\n",
    "print(pmis_row.head())\n",
    "print(pcom_row.head())\n",
    "\n",
    "# 누락값의 개수를 구하여 titanic df에 'num_missing' 열로 추가\n",
    "titanic['num_missing'] = titanic.apply(count_missing, axis=1)\n",
    "print(titanic.head())\n",
    "\n",
    "# 추가한 열에서 누락값이 2개 이상인 데이터만 추출하기\n",
    "print(titanic.loc[titanic.num_missing > 1, :])"
   ]
  },
  {
   "cell_type": "code",
   "execution_count": null,
   "metadata": {},
   "outputs": [],
   "source": []
  }
 ],
 "metadata": {
  "kernelspec": {
   "display_name": "Python 3",
   "language": "python",
   "name": "python3"
  },
  "language_info": {
   "codemirror_mode": {
    "name": "ipython",
    "version": 3
   },
   "file_extension": ".py",
   "mimetype": "text/x-python",
   "name": "python",
   "nbconvert_exporter": "python",
   "pygments_lexer": "ipython3",
   "version": "3.12.2"
  }
 },
 "nbformat": 4,
 "nbformat_minor": 1
}

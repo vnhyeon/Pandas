{
 "cells": [
  {
   "cell_type": "markdown",
   "metadata": {},
   "source": [
    "판다스에서 다루는 데이터의 대부분은 문자열로 저장되어 있다\n",
    "\n",
    "판다스가 아니라 파이썬으로 문자열을 처리하는 방법에 대해 학습"
   ]
  },
  {
   "cell_type": "markdown",
   "metadata": {},
   "source": [
    "# 문자열 추출하기"
   ]
  },
  {
   "cell_type": "code",
   "execution_count": 2,
   "metadata": {},
   "outputs": [
    {
     "name": "stdout",
     "output_type": "stream",
     "text": [
      "g\n",
      "s\n",
      "l\n",
      "gra\n",
      "a\n"
     ]
    }
   ],
   "source": [
    "word = 'grail'\n",
    "sent = 'a scratch'\n",
    "\n",
    "print(word[0])\n",
    "print(sent[2])\n",
    "print(word[-1])\n",
    "\n",
    "print(word[0:3])\n",
    "print(sent[-9:-8])\n",
    "\n"
   ]
  },
  {
   "cell_type": "markdown",
   "metadata": {},
   "source": [
    "# 전체 문자열 추출하기"
   ]
  },
  {
   "cell_type": "code",
   "execution_count": 7,
   "metadata": {},
   "outputs": [
    {
     "name": "stdout",
     "output_type": "stream",
     "text": [
      "gra\n",
      "gra\n",
      "scratch\n",
      "a scratch\n",
      "asrth\n"
     ]
    }
   ],
   "source": [
    "print(word[0:3])\n",
    "print(word[:3])\n",
    "\n",
    "print(sent[2:])\n",
    "print(sent[:])\n",
    "\n",
    "print(sent[::2])"
   ]
  },
  {
   "cell_type": "markdown",
   "metadata": {},
   "source": [
    "# join, splitlines, replace 메서드 실습하기"
   ]
  },
  {
   "cell_type": "code",
   "execution_count": 11,
   "metadata": {},
   "outputs": [
    {
     "name": "stdout",
     "output_type": "stream",
     "text": [
      "40° 46' 52.837\" N 73° 58' 26.302\" W\n",
      "['Guard: What? Ridden on a horse?', 'King Arthur: Yes!', \"Guard: You're using coconuts!\", 'King Arthur: What?', \"Guard: You've got ... coconuts[s] and you're bangin' 'em together.\"]\n",
      "['What? Ridden on a horse?', \"You're using coconuts!\", \"You've got ... coconuts[s] and you're bangin' 'em together.\"]\n"
     ]
    }
   ],
   "source": [
    "# join 메서드\n",
    "d1 = '40°'\n",
    "m1 = \"46'\"\n",
    "s1 = '52.837\"'\n",
    "u1 = 'N'\n",
    "\n",
    "d2 = '73°'\n",
    "m2 = \"58'\"\n",
    "s2 = '26.302\"'\n",
    "u2 = 'W'\n",
    "\n",
    "coords = ' '.join([d1, m1, s1, u1, d2, m2, s2, u2])\n",
    "print(coords)\n",
    "\n",
    "\n",
    "# splitlines 메서드_여러 행을 가진 문자열을 분리해 리스트로 반환\n",
    "multi_str = \"\"\"Guard: What? Ridden on a horse?\n",
    "King Arthur: Yes!\n",
    "Guard: You're using coconuts!\n",
    "King Arthur: What?\n",
    "Guard: You've got ... coconuts[s] and you're bangin' 'em together.\n",
    "\"\"\"\n",
    "\n",
    "multi_str_split = multi_str.splitlines()\n",
    "print(multi_str_split)\n",
    "\n",
    "\n",
    "# replace 메서드_원하는 문자열을 치환해줌\n",
    "guard = multi_str.replace(\"Guard: \", \"\").splitlines()[::2]\n",
    "print(guard)\n"
   ]
  },
  {
   "cell_type": "markdown",
   "metadata": {},
   "source": [
    "# 문자열 포매팅 실습하기"
   ]
  },
  {
   "cell_type": "code",
   "execution_count": 15,
   "metadata": {},
   "outputs": [
    {
     "name": "stdout",
     "output_type": "stream",
     "text": [
      "It's just a flesh wound!\n",
      "It's just a scratch!\n",
      "Black Knight: 'Tis but a scratch.\n",
      "    King Arthur: A scratch? Your arm's off!\n",
      "    \n",
      "s : 40.7, 73.9\n"
     ]
    }
   ],
   "source": [
    "# {}를 플레이스 홀더라고 부름\n",
    "var = 'flesh wound'\n",
    "s = \"It's just a {}!\"\n",
    "print(s.format(var))\n",
    "print(s.format('scratch'))\n",
    "\n",
    "# 여러 단어를 전달할 때는 인덱스 개념을 응용하자\n",
    "s = \"\"\"Black Knight: 'Tis but a {0}.\n",
    "    King Arthur: A {0}? Your arm's off!\n",
    "    \"\"\"\n",
    "print(s.format('scratch'))\n",
    "\n",
    "s = 's : {lat}, {lon}'\n",
    "print(s.format(lat='40.7', lon='73.9'))"
   ]
  },
  {
   "cell_type": "markdown",
   "metadata": {},
   "source": [
    "# 수치값 포매팅 실습"
   ]
  },
  {
   "cell_type": "code",
   "execution_count": 19,
   "metadata": {},
   "outputs": [
    {
     "name": "stdout",
     "output_type": "stream",
     "text": [
      "some pi : 3,700,000\n",
      "0.0103%\n",
      "00042\n"
     ]
    }
   ],
   "source": [
    "# 숫자 데이터도 플레이스 홀더 {} 사용 가능\n",
    "\n",
    "# :,를 넣으면 천단위마다 출력\n",
    "print('some pi : {:,}'.format(3700000)) \n",
    "\n",
    "# 0:.4%를 넣으면 소수점 4자리까지 출력하고 퍼센트화\n",
    "print(\"{0:.4%}\".format(7/67890))\n",
    "\n",
    "# 0:05d를 넣으면 5자리수로 표현하되 빈칸을 0으로 전부 채워\n",
    "print(\"{0:05d}\".format(42))"
   ]
  },
  {
   "cell_type": "markdown",
   "metadata": {},
   "source": [
    "# % 연산자로 포매팅하기"
   ]
  },
  {
   "cell_type": "code",
   "execution_count": 21,
   "metadata": {},
   "outputs": [
    {
     "name": "stdout",
     "output_type": "stream",
     "text": [
      "7 pi\n",
      "e = 2.70\n"
     ]
    }
   ],
   "source": [
    "s = '%d pi' % 7\n",
    "print(s)\n",
    "\n",
    "s = '%(cont)s = %(value).2f' % {'cont':'e', 'value':2.7}\n",
    "print(s)"
   ]
  },
  {
   "cell_type": "markdown",
   "metadata": {},
   "source": [
    "# f-strings로 포매팅 사용하기"
   ]
  },
  {
   "cell_type": "code",
   "execution_count": 24,
   "metadata": {},
   "outputs": [
    {
     "name": "stdout",
     "output_type": "stream",
     "text": [
      "it's just a car\n"
     ]
    }
   ],
   "source": [
    "# 문자열 앞에 f를 붙히면 돼\n",
    "var = 'car'\n",
    "s = f\"it's just a {var}\"\n",
    "print(s)\n"
   ]
  },
  {
   "cell_type": "markdown",
   "metadata": {},
   "source": [
    "# 정규식으로 전화번호 패턴 찾기"
   ]
  },
  {
   "cell_type": "code",
   "execution_count": 30,
   "metadata": {},
   "outputs": [
    {
     "name": "stdout",
     "output_type": "stream",
     "text": [
      "<class 're.Match'>\n",
      "<re.Match object; span=(0, 10), match='1234567890'>\n",
      "True\n",
      "0\n",
      "10\n",
      "(0, 10)\n",
      "1234567890\n"
     ]
    },
    {
     "name": "stderr",
     "output_type": "stream",
     "text": [
      "<>:10: SyntaxWarning: invalid escape sequence '\\d'\n",
      "<>:10: SyntaxWarning: invalid escape sequence '\\d'\n",
      "C:\\Users\\njh45\\AppData\\Local\\Temp\\ipykernel_28904\\2444468881.py:10: SyntaxWarning: invalid escape sequence '\\d'\n",
      "  m = re.match(pattern='\\d\\d\\d\\d\\d\\d\\d\\d\\d\\d', string=tele_num)\n"
     ]
    }
   ],
   "source": [
    "# Notion) 정규식 표현에 사용되는 문법, 특수 문자표 참고\n",
    "# 정규식을 사용하려면 찾고자 하는 문자열의 정규식 패턴을 만들어야 함\n",
    "# 원하는 패턴의 문자열을 가장 효율적으로 찾아준다\n",
    "\n",
    "import re\n",
    "tele_num = '1234567890'\n",
    "\n",
    "# 만약 패턴을 찾으면 실행결과처럼 Match object를 반환\n",
    "# span에는 찾은 패턴의 인덱스, match에는 찾은 패턴의 문자열이 존재\n",
    "m = re.match(pattern='\\d\\d\\d\\d\\d\\d\\d\\d\\d\\d', string=tele_num)\n",
    "print(type(m))\n",
    "print(m)\n",
    "\n",
    "# bool 메서드에 위에 있는 m을 전달하면 T/F를 얻음\n",
    "# match 메서드가 반환한 Match object는 bool 메서드인것\n",
    "print(bool(m))\n",
    "\n",
    "# 찾아낸 패턴의 정보를 확인하는 메서드 \n",
    "# start, end, span(패턴의 첫번째 마지막 인덱스 모두 반환), group(찾아낸 패턴을 반환)\n",
    "print(m.start())\n",
    "print(m.end())\n",
    "print(m.span())\n",
    "print(m.group())\n"
   ]
  },
  {
   "cell_type": "code",
   "execution_count": 35,
   "metadata": {},
   "outputs": [
    {
     "name": "stdout",
     "output_type": "stream",
     "text": [
      "None\n",
      "<re.Match object; span=(0, 12), match='123 456 7890'>\n"
     ]
    },
    {
     "name": "stderr",
     "output_type": "stream",
     "text": [
      "<>:3: SyntaxWarning: invalid escape sequence '\\d'\n",
      "<>:7: SyntaxWarning: invalid escape sequence '\\d'\n",
      "<>:3: SyntaxWarning: invalid escape sequence '\\d'\n",
      "<>:7: SyntaxWarning: invalid escape sequence '\\d'\n",
      "C:\\Users\\njh45\\AppData\\Local\\Temp\\ipykernel_28904\\3030632729.py:3: SyntaxWarning: invalid escape sequence '\\d'\n",
      "  m = re.match(pattern='\\d{10}', string=tele)\n",
      "C:\\Users\\njh45\\AppData\\Local\\Temp\\ipykernel_28904\\3030632729.py:7: SyntaxWarning: invalid escape sequence '\\d'\n",
      "  p = '\\d{3}\\s?\\d{3}\\s?\\d{4}'\n"
     ]
    }
   ],
   "source": [
    "# 전화번호는 010-0000-0000같은 방법도 있으니 패턴을 못찾으면 None출력\n",
    "tele = '123 456 7890'\n",
    "m = re.match(pattern='\\d{10}', string=tele)\n",
    "print(m)\n",
    "\n",
    "# 빈칸을 의미하는 \\s?, 패턴을 수정하면 정상적으로 Match object 출력\n",
    "p = '\\d{3}\\s?\\d{3}\\s?\\d{4}'\n",
    "m = re.match(pattern=p, string=tele)\n",
    "print(m)\n",
    "\n",
    "# (123) 456-7890의 정규식\n",
    "p = '\\(?\\d{3}\\)?\\s?\\d{3}/s?-?\\d{4}'\n",
    "\n",
    "# +1 (123) 456-7890의 정규식\n",
    "p = '\\+?1\\s?\\(?\\d{3}\\)?\\s?\\d{3}/s?-?\\d{4}'"
   ]
  },
  {
   "cell_type": "markdown",
   "metadata": {},
   "source": [
    "# compile 메서드로 정규식 메서드 사용하기"
   ]
  },
  {
   "cell_type": "code",
   "execution_count": 36,
   "metadata": {},
   "outputs": [
    {
     "name": "stdout",
     "output_type": "stream",
     "text": [
      "<re.Match object; span=(0, 10), match='1234567890'>\n"
     ]
    },
    {
     "name": "stderr",
     "output_type": "stream",
     "text": [
      "<>:2: SyntaxWarning: invalid escape sequence '\\d'\n",
      "<>:2: SyntaxWarning: invalid escape sequence '\\d'\n",
      "C:\\Users\\njh45\\AppData\\Local\\Temp\\ipykernel_28904\\2800879863.py:2: SyntaxWarning: invalid escape sequence '\\d'\n",
      "  p = re.compile('\\d{10}')\n"
     ]
    }
   ],
   "source": [
    "# 패턴을 반복해서 사용하기 위해 compile 메서드로 패턴 컴파일\n",
    "p = re.compile('\\d{10}')\n",
    "s = '1234567890'\n",
    "m = p.match(s)\n",
    "print(m)"
   ]
  }
 ],
 "metadata": {
  "kernelspec": {
   "display_name": "Python 3",
   "language": "python",
   "name": "python3"
  },
  "language_info": {
   "codemirror_mode": {
    "name": "ipython",
    "version": 3
   },
   "file_extension": ".py",
   "mimetype": "text/x-python",
   "name": "python",
   "nbconvert_exporter": "python",
   "pygments_lexer": "ipython3",
   "version": "3.12.2"
  }
 },
 "nbformat": 4,
 "nbformat_minor": 1
}

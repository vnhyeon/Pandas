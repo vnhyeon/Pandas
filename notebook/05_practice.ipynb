{
 "cells": [
  {
   "cell_type": "markdown",
   "metadata": {},
   "source": [
    "# concat 메서드로 데이터 연결하기"
   ]
  },
  {
   "cell_type": "code",
   "execution_count": 1,
   "metadata": {},
   "outputs": [
    {
     "name": "stdout",
     "output_type": "stream",
     "text": [
      "     A    B    C    D\n",
      "0   a4   b4   c4   d4\n",
      "1   a5   b5   c5   d5\n",
      "2   a6   b6   c6   d6\n",
      "3   a7   b7   c7   d7\n",
      "0   a4   b4   c4   d4\n",
      "1   a5   b5   c5   d5\n",
      "2   a6   b6   c6   d6\n",
      "3   a7   b7   c7   d7\n",
      "0   a8   b8   c8   d8\n",
      "1   a9   b9   c9   d9\n",
      "2  a10  b10  c10  d10\n",
      "3  a11  b11  c11  d11\n",
      "A    a4\n",
      "B    b4\n",
      "C    c4\n",
      "D    d4\n",
      "Name: 0, dtype: object\n"
     ]
    }
   ],
   "source": [
    "import pandas as pd\n",
    "\n",
    "df1 = pd.read_csv('../data/concat_2.csv')\n",
    "df2 = pd.read_csv('../data/concat_2.csv')\n",
    "df3 = pd.read_csv('../data/concat_3.csv')\n",
    "\n",
    "row_concat = pd.concat([df1, df2, df3])\n",
    "# concat에 df를 리스트로 전달하면 위에서 아래로 df를 연결해서 반환해줌\n",
    "# 단, 인덱스도 계속 유지\n",
    "\n",
    "print(row_concat)\n",
    "\n",
    "# 행 데이터 추출. iloc은 인덱스가 아닌 행 번호로 추출, 행 인덱스도 0부터 시작\n",
    "print(row_concat.iloc[4,:]) \n"
   ]
  },
  {
   "cell_type": "markdown",
   "metadata": {},
   "source": [
    "# 데이터프레임에 시리즈 연결 및 추가"
   ]
  },
  {
   "cell_type": "code",
   "execution_count": 2,
   "metadata": {},
   "outputs": [
    {
     "name": "stdout",
     "output_type": "stream",
     "text": [
      "     A    B    C    D    0\n",
      "0   a4   b4   c4   d4  NaN\n",
      "1   a5   b5   c5   d5  NaN\n",
      "2   a6   b6   c6   d6  NaN\n",
      "3   a7   b7   c7   d7  NaN\n",
      "0  NaN  NaN  NaN  NaN   n1\n",
      "1  NaN  NaN  NaN  NaN   n2\n",
      "2  NaN  NaN  NaN  NaN   n3\n",
      "3  NaN  NaN  NaN  NaN   n4\n"
     ]
    }
   ],
   "source": [
    "new_row_series = pd.Series(['n1', 'n2', 'n3', 'n4'])\n",
    "\n",
    "# df1에 시리즈를 합치면 열이 추가돼\n",
    "print(pd.concat([df1, new_row_series])) \n",
    "\n",
    "# 시리즈의 행이 1개라도 반드시 df에 담아 연결해야 되겠다.. why? 시리즈에는 열 이름이 없기 때문\n",
    "# 그래서 위 print에서는 새로운 열인 0으로 간주하여 추가된 것\n"
   ]
  },
  {
   "cell_type": "markdown",
   "metadata": {},
   "source": [
    "# 행 1개로 구성된 데이터프레임 생성하여 연결하기"
   ]
  },
  {
   "cell_type": "code",
   "execution_count": 3,
   "metadata": {},
   "outputs": [
    {
     "name": "stdout",
     "output_type": "stream",
     "text": [
      "    A   B   C   D\n",
      "0  n1  n2  n3  n4\n",
      "    A   B   C   D\n",
      "0  a4  b4  c4  d4\n",
      "1  a5  b5  c5  d5\n",
      "2  a6  b6  c6  d6\n",
      "3  a7  b7  c7  d7\n",
      "0  n1  n2  n3  n4\n"
     ]
    }
   ],
   "source": [
    "# 시리즈가 아닌 df를 생성\n",
    "new_row_df = pd.DataFrame([['n1', 'n2', 'n3', 'n4']], columns=['A', 'B', 'C', 'D'])\n",
    "print(new_row_df) \n",
    "\n",
    "print(pd.concat([df1, new_row_df]))"
   ]
  },
  {
   "cell_type": "markdown",
   "metadata": {},
   "source": [
    "# 다양한 방법으로 데이터 연결하기"
   ]
  },
  {
   "cell_type": "code",
   "execution_count": 4,
   "metadata": {},
   "outputs": [
    {
     "name": "stdout",
     "output_type": "stream",
     "text": [
      "      A    B    C    D\n",
      "0    a4   b4   c4   d4\n",
      "1    a5   b5   c5   d5\n",
      "2    a6   b6   c6   d6\n",
      "3    a7   b7   c7   d7\n",
      "4    a4   b4   c4   d4\n",
      "5    a5   b5   c5   d5\n",
      "6    a6   b6   c6   d6\n",
      "7    a7   b7   c7   d7\n",
      "8    a8   b8   c8   d8\n",
      "9    a9   b9   c9   d9\n",
      "10  a10  b10  c10  d10\n",
      "11  a11  b11  c11  d11\n"
     ]
    }
   ],
   "source": [
    "# ignore_index=True는 데이터를 연결한 다음 인덱스를 통합시켜줘\n",
    "row_concat_i = pd.concat([df1, df2, df3], ignore_index=True) \n",
    "print(row_concat_i)"
   ]
  },
  {
   "cell_type": "code",
   "execution_count": 5,
   "metadata": {},
   "outputs": [
    {
     "name": "stdout",
     "output_type": "stream",
     "text": [
      "    A   B   C   D   A   B   C   D    A    B    C    D\n",
      "0  a4  b4  c4  d4  a4  b4  c4  d4   a8   b8   c8   d8\n",
      "1  a5  b5  c5  d5  a5  b5  c5  d5   a9   b9   c9   d9\n",
      "2  a6  b6  c6  d6  a6  b6  c6  d6  a10  b10  c10  d10\n",
      "3  a7  b7  c7  d7  a7  b7  c7  d7  a11  b11  c11  d11\n",
      "    A   A    A\n",
      "0  a4  a4   a8\n",
      "1  a5  a5   a9\n",
      "2  a6  a6  a10\n",
      "3  a7  a7  a11\n",
      "    A   B   C   D   A   B   C   D    A    B    C    D 컬럼명\n",
      "0  a4  b4  c4  d4  a4  b4  c4  d4   a8   b8   c8   d8  n1\n",
      "1  a5  b5  c5  d5  a5  b5  c5  d5   a9   b9   c9   d9  n2\n",
      "2  a6  b6  c6  d6  a6  b6  c6  d6  a10  b10  c10  d10  n3\n",
      "3  a7  b7  c7  d7  a7  b7  c7  d7  a11  b11  c11  d11  n4\n",
      "   0   1   2   3   4   5   6   7    8    9    10   11\n",
      "0  a4  b4  c4  d4  a4  b4  c4  d4   a8   b8   c8   d8\n",
      "1  a5  b5  c5  d5  a5  b5  c5  d5   a9   b9   c9   d9\n",
      "2  a6  b6  c6  d6  a6  b6  c6  d6  a10  b10  c10  d10\n",
      "3  a7  b7  c7  d7  a7  b7  c7  d7  a11  b11  c11  d11\n"
     ]
    }
   ],
   "source": [
    "# axis인자가 열 방향으로 연결하게 해줌. 기본값은 0임\n",
    "col_concat = pd.concat([df1, df2, df3], axis=1)\n",
    "print(col_concat) \n",
    "\n",
    "# 같은 컬럼 이름이 있는 dP에서 열 추출하면 전부 추출돼\n",
    "print(col_concat['A']) \n",
    "\n",
    "# 새로운 열 추가\n",
    "col_concat['컬럼명'] = ['n1','n2','n3','n4'] \n",
    "print(col_concat)\n",
    "\n",
    "# 제일 깔끔한 정리\n",
    "print(pd.concat([df1, df2, df3], axis=1, ignore_index=True)) "
   ]
  },
  {
   "cell_type": "markdown",
   "metadata": {},
   "source": [
    "# 공통 열과 공통 인덱스만 연결하기"
   ]
  },
  {
   "cell_type": "code",
   "execution_count": 6,
   "metadata": {},
   "outputs": [
    {
     "name": "stdout",
     "output_type": "stream",
     "text": [
      "    A   B   C   D\n",
      "0  a4  b4  c4  d4\n",
      "1  a5  b5  c5  d5\n",
      "2  a6  b6  c6  d6\n",
      "3  a7  b7  c7  d7\n",
      "<class 'pandas.core.frame.DataFrame'>\n",
      "     A    B    C    D    E    F    G    H\n",
      "0   a4   b4   c4   d4  NaN  NaN  NaN  NaN\n",
      "1   a5   b5   c5   d5  NaN  NaN  NaN  NaN\n",
      "2   a6   b6   c6   d6  NaN  NaN  NaN  NaN\n",
      "3   a7   b7   c7   d7  NaN  NaN  NaN  NaN\n",
      "0  NaN  NaN  NaN  NaN   a4   b4   c4   d4\n",
      "1  NaN  NaN  NaN  NaN   a5   b5   c5   d5\n",
      "2  NaN  NaN  NaN  NaN   a6   b6   c6   d6\n",
      "3  NaN  NaN  NaN  NaN   a7   b7   c7   d7\n",
      "0   a8  NaN   b8  NaN  NaN   c8  NaN   d8\n",
      "1   a9  NaN   b9  NaN  NaN   c9  NaN   d9\n",
      "2  a10  NaN  b10  NaN  NaN  c10  NaN  d10\n",
      "3  a11  NaN  b11  NaN  NaN  c11  NaN  d11\n",
      "Empty DataFrame\n",
      "Columns: []\n",
      "Index: [0, 1, 2, 3, 0, 1, 2, 3, 0, 1, 2, 3]\n",
      "     A    C\n",
      "0   a4   c4\n",
      "1   a5   c5\n",
      "2   a6   c6\n",
      "3   a7   c7\n",
      "0   a8   b8\n",
      "1   a9   b9\n",
      "2  a10  b10\n",
      "3  a11  b11\n"
     ]
    }
   ],
   "source": [
    "print(df1)\n",
    "print(type(df1)) # 시험삼아 print 해보고\n",
    "\n",
    "df1.columns = ['A','B','C','D']\n",
    "df2.columns = ['E','F','G','H']\n",
    "df3.columns = ['A','C','F','H'] # 열이 일부만 같음\n",
    "\n",
    "# 합쳐보니 있는 열만 들어가고 없으면 NaN\n",
    "row_concat = pd.concat([df1, df2, df3]) \n",
    "print(row_concat)\n",
    "\n",
    "\n",
    "# 세 개의 df에 모두 속한 열은 없으므로 Columns이 빈공간으로 나옴\n",
    "print(pd.concat([df1, df2, df3], join='inner'))\n",
    "\n",
    "# 위 코드와 다르게 공통 열만 골라 연결해보자. df1, df3의 공통열만 뽑아 연결\n",
    "print(pd.concat([df1, df3], ignore_index=False, join='inner'))"
   ]
  },
  {
   "cell_type": "code",
   "execution_count": 7,
   "metadata": {},
   "outputs": [
    {
     "name": "stdout",
     "output_type": "stream",
     "text": [
      "    A   B   C   D\n",
      "0  a4  b4  c4  d4\n",
      "1  a5  b5  c5  d5\n",
      "2  a6  b6  c6  d6\n",
      "3  a7  b7  c7  d7\n",
      "     A    B    C    D    E    F    G    H    A    C    F    H\n",
      "0   a4   b4   c4   d4  NaN  NaN  NaN  NaN   a8   b8   c8   d8\n",
      "1   a5   b5   c5   d5  NaN  NaN  NaN  NaN  NaN  NaN  NaN  NaN\n",
      "2   a6   b6   c6   d6  NaN  NaN  NaN  NaN   a9   b9   c9   d9\n",
      "3   a7   b7   c7   d7  NaN  NaN  NaN  NaN  NaN  NaN  NaN  NaN\n",
      "4  NaN  NaN  NaN  NaN   a4   b4   c4   d4  NaN  NaN  NaN  NaN\n",
      "5  NaN  NaN  NaN  NaN   a5   b5   c5   d5  a10  b10  c10  d10\n",
      "6  NaN  NaN  NaN  NaN   a6   b6   c6   d6  NaN  NaN  NaN  NaN\n",
      "7  NaN  NaN  NaN  NaN   a7   b7   c7   d7  a11  b11  c11  d11\n",
      "    A   B   C   D   A   C   F   H\n",
      "0  a4  b4  c4  d4  a8  b8  c8  d8\n",
      "2  a6  b6  c6  d6  a9  b9  c9  d9\n"
     ]
    }
   ],
   "source": [
    "df1.index = [0,1,2,3]\n",
    "df2.index = [4,5,6,7]\n",
    "df3.index = [0,2,5,7]\n",
    "print(df1) # 테스트\n",
    "\n",
    "# 열을 합친 것과 마찬가지로 NaN이 생김\n",
    "col_concat = pd.concat([df1, df2, df3], axis=1) \n",
    "print(col_concat)\n",
    "\n",
    "# df1, df3의 공통 행만 연결한 것\n",
    "print(pd.concat([df1, df3], axis=1, join='inner')) \n"
   ]
  },
  {
   "cell_type": "markdown",
   "metadata": {},
   "source": [
    "# merge 메서드 사용하기"
   ]
  },
  {
   "cell_type": "code",
   "execution_count": 9,
   "metadata": {},
   "outputs": [
    {
     "name": "stdout",
     "output_type": "stream",
     "text": [
      "      ident   personal    family\n",
      "0      dyer    William      Dyer\n",
      "1        pb      Frank   Pabodie\n",
      "2      lake   Anderson      Lake\n",
      "3       roe  Valentina   Roerich\n",
      "4  danforth      Frank  Danforth\n",
      "    name    lat    long  ident   site       dated\n",
      "0   DR-1 -49.85 -128.57    619   DR-1  1927-02-08\n",
      "1   DR-1 -49.85 -128.57    622   DR-1  1927-02-10\n",
      "2   DR-1 -49.85 -128.57    844   DR-1  1932-03-22\n",
      "3   DR-3 -47.15 -126.72    734   DR-3  1939-01-07\n",
      "4   DR-3 -47.15 -126.72    735   DR-3  1930-01-12\n",
      "5   DR-3 -47.15 -126.72    751   DR-3  1930-02-26\n",
      "6   DR-3 -47.15 -126.72    752   DR-3         NaN\n",
      "7  MSK-4 -48.87 -123.40    837  MSK-4  1932-01-14\n"
     ]
    }
   ],
   "source": [
    "# pandas가 제공하는 데이터 연결 전용 메서드 merge\n",
    "# 내부 조인 = 교집합\n",
    "# 외부 조인 = 합집합\n",
    "\n",
    "\n",
    "person = pd.read_csv('../data/survey_person.csv')\n",
    "site = pd.read_csv('../data/survey_site.csv')\n",
    "survey = pd.read_csv('../data/survey_survey.csv')\n",
    "visited = pd.read_csv('../data/survey_visited.csv')\n",
    "print(person) # 테스트\n",
    "\n",
    "# merge 메서드는 기본적으로 '내부 조인'을 실행하며 메서드를 사용한 df를 왼쪽으로 첫 번째 인잣값으로 지정된 df를 오른쪽으로 지정한다\n",
    "# site df의 name열과 visited df의 site열이 같으면 병합\n",
    "s2v_merge = site.merge(visited, left_on='name', right_on='site') \n",
    "print(s2v_merge)\n",
    "\n",
    "# 참고, left_on/right_on에 전달하는 값은 리스트여도 돼\n",
    "# 리스트로 전달해서 연결한 뒤에 결과에 _x, _y가 있다면 각각 왼쪽, 오른쪽 dp 열을 의미하는 것"
   ]
  }
 ],
 "metadata": {
  "kernelspec": {
   "display_name": "Python 3",
   "language": "python",
   "name": "python3"
  },
  "language_info": {
   "codemirror_mode": {
    "name": "ipython",
    "version": 3
   },
   "file_extension": ".py",
   "mimetype": "text/x-python",
   "name": "python",
   "nbconvert_exporter": "python",
   "pygments_lexer": "ipython3",
   "version": "3.12.2"
  }
 },
 "nbformat": 4,
 "nbformat_minor": 2
}

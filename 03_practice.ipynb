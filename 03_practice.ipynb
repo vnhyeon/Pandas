{
 "cells": [
  {
   "cell_type": "markdown",
   "metadata": {},
   "source": [
    "# 시리즈 만들기"
   ]
  },
  {
   "cell_type": "code",
   "execution_count": 22,
   "metadata": {},
   "outputs": [
    {
     "name": "stdout",
     "output_type": "stream",
     "text": [
      "0    banana\n",
      "1        42\n",
      "dtype: object\n",
      "0         Wes McKinney\n",
      "1    Creator of Pandas\n",
      "dtype: object\n",
      "Person         Wes Mckinney\n",
      "Who       Creator of pandas\n",
      "dtype: object\n"
     ]
    }
   ],
   "source": [
    "import pandas as pd\n",
    "s = pd.Series(['banana', 42]) # 리스트를 전달하면 시리즈가 생김\n",
    "print(s)\n",
    "\n",
    "s = pd.Series(['Wes McKinney', 'Creator of Pandas'])\n",
    "print(s)\n",
    "\n",
    "# .Series(data, index, dtype, name, copy)\n",
    "s = pd.Series(['Wes Mckinney', 'Creator of pandas'], index=['Person', 'Who'])\n",
    "print(s)"
   ]
  },
  {
   "cell_type": "markdown",
   "metadata": {},
   "source": [
    "# 데이터프레임 만들기"
   ]
  },
  {
   "cell_type": "code",
   "execution_count": 23,
   "metadata": {},
   "outputs": [
    {
     "name": "stdout",
     "output_type": "stream",
     "text": [
      "                Name    Occupation        Born        Died  Age\n",
      "0  Rosaline Franklin       Chemist  1920-07-25  1958-04-16   37\n",
      "1     William Gosset  Statistician  1876-06-13  1937-10-16   61\n",
      "                     Occupation        Born  Age        Died\n",
      "Rosaline Franklin       Chemist  1920-07-25   37  1958-04-16\n",
      "William Gosset     Statistician  1876-06-13   61  1937-10-16\n"
     ]
    }
   ],
   "source": [
    "# 딕셔너리를 전달하면 데이터프레임이 생김\n",
    "scientists = pd.DataFrame({'Name' : ['Rosaline Franklin', 'William Gosset'],\n",
    "                          'Occupation' : ['Chemist', 'Statistician'],\n",
    "                          'Born' : ['1920-07-25', '1876-06-13'],\n",
    "                          'Died' : ['1958-04-16', '1937-10-16'],\n",
    "                          'Age' : [37, 61]}\n",
    "                         )\n",
    "print(scientists)\n",
    "\n",
    "scientists_2 = pd.DataFrame(data = {'Occupation' : ['Chemist', 'Statistician'],\n",
    "                                    'Born' : ['1920-07-25', '1876-06-13'],\n",
    "                                    'Died' : ['1958-04-16', '1937-10-16'],\n",
    "                                    'Age' : [37, 61]},\n",
    "                            index = ['Rosaline Franklin', 'William Gosset'],\n",
    "                            columns = ['Occupation' , 'Born', 'Age', 'Died'])\n",
    "print(scientists_2)\n",
    "\n",
    "# from collections import OrderedDict\n",
    "# scientists = pd.DataFrame(OrderedDict 후 딕셔너리를 전달하면 데이터 순서를 그대로 유지한다                           "
   ]
  },
  {
   "cell_type": "markdown",
   "metadata": {},
   "source": [
    "# 데이터프레임에서 시리즈 선택하기"
   ]
  },
  {
   "cell_type": "code",
   "execution_count": 24,
   "metadata": {},
   "outputs": [
    {
     "name": "stdout",
     "output_type": "stream",
     "text": [
      "<class 'pandas.core.series.Series'>\n",
      "Occupation    Statistician\n",
      "Born            1876-06-13\n",
      "Died            1937-10-16\n",
      "Age                     61\n",
      "Name: William Gosset, dtype: object\n"
     ]
    }
   ],
   "source": [
    "# 데이터 프레임에서 시리즈를 선택하려면 loc 속성에 인덱스를 전달해야돼\n",
    "\n",
    "scientists = pd.DataFrame(\n",
    "    data={'Occupation': ['Chemist', 'Statistician'],\n",
    "          'Born': ['1920-07-25', '1876-06-13'],\n",
    "          'Died': ['1958-04-16', '1937-10-16'],\n",
    "          'Age': [37, 61]},\n",
    "    index=['Rosalind Franklin', 'William Gosset'],\n",
    "    columns=['Occupation', 'Born', 'Died', 'Age']\n",
    ")\n",
    "\n",
    "# loc 속성에 인덱스를 전달한 것. scientists df에서 인덱스를 문자로 설정함\n",
    "first_row = scientists.loc['William Gosset']\n",
    "\n",
    "# 정말 시리즈인지 타입으로 검사\n",
    "print(type(first_row))\n",
    "\n",
    "print(first_row)\n",
    "# 주의할 점은, Age에 61이라는 정수형을 전달해도 시리즈의 type은 object임\n",
    "# 이는 데이터의 일관성 유지를 위한 pandas의 기본 동작임\n"
   ]
  },
  {
   "cell_type": "markdown",
   "metadata": {},
   "source": [
    "# index, values, keys 사용하기"
   ]
  },
  {
   "cell_type": "code",
   "execution_count": 25,
   "metadata": {},
   "outputs": [
    {
     "name": "stdout",
     "output_type": "stream",
     "text": [
      "Index(['Occupation', 'Born', 'Died', 'Age'], dtype='object')\n",
      "['Statistician' '1876-06-13' '1937-10-16' 61]\n",
      "Index(['Occupation', 'Born', 'Died', 'Age'], dtype='object')\n",
      "Occupation\n",
      "Occupation\n"
     ]
    }
   ],
   "source": [
    "print(first_row.index) # index를 찾아서\n",
    "\n",
    "print(first_row.values) # 해당 index의 값을 불러오는 느낌\n",
    "\n",
    "# keys는 속성이 아니라 메서드임. index 속성과 같은 역할을 함\n",
    "print(first_row.keys())\n",
    "\n",
    "print(first_row.index[0]) # 첫번째 index만 추출해본것\n",
    "print(first_row.keys()[0]) # 바로 위와 마찬가지"
   ]
  },
  {
   "cell_type": "markdown",
   "metadata": {},
   "source": [
    "# 시리즈의 mean, min, max, std 메서드 사용하기"
   ]
  },
  {
   "cell_type": "code",
   "execution_count": 26,
   "metadata": {},
   "outputs": [
    {
     "name": "stdout",
     "output_type": "stream",
     "text": [
      "Rosalind Franklin    37\n",
      "William Gosset       61\n",
      "Name: Age, dtype: int64\n",
      "49.0\n",
      "37\n",
      "61\n",
      "16.97056274847714\n"
     ]
    }
   ],
   "source": [
    "ages = scientists['Age']\n",
    "print(ages)\n",
    "\n",
    "print(ages.mean()) # Age라는 시리즈만 뽑았으니까 통계량 계산 가능\n",
    "print(ages.min())\n",
    "print(ages.max())\n",
    "print(ages.std())"
   ]
  },
  {
   "cell_type": "markdown",
   "metadata": {},
   "source": [
    "# 시리즈와 불린 추출 사용하기"
   ]
  },
  {
   "cell_type": "code",
   "execution_count": 27,
   "metadata": {},
   "outputs": [
    {
     "name": "stdout",
     "output_type": "stream",
     "text": [
      "90\n",
      "59.125\n",
      "1    61\n",
      "2    90\n",
      "3    66\n",
      "7    77\n",
      "Name: Age, dtype: int64\n",
      "0    False\n",
      "1     True\n",
      "2     True\n",
      "3     True\n",
      "4    False\n",
      "5    False\n",
      "6    False\n",
      "7     True\n",
      "Name: Age, dtype: bool\n",
      "0    37\n",
      "1    61\n",
      "4    56\n",
      "5    45\n",
      "7    77\n",
      "Name: Age, dtype: int64\n"
     ]
    }
   ],
   "source": [
    "scientists = pd.read_csv('../data/scientists.csv')\n",
    "\n",
    "ages = scientists['Age']\n",
    "\n",
    "print(ages.max())\n",
    "print(ages.mean())\n",
    "# 여기까진 평소 추출과 동일\n",
    "\n",
    "# 불린 추출은 특정 조건을 만족하는 값을 자동으로 추출하는 기능\n",
    "\n",
    "# 평균보다 많은 나이를 가진 사람들만 출력\n",
    "print(ages[ages > ages.mean()])\n",
    "\n",
    "# 위 식 확인을 위해 참값인 index만 출력\n",
    "print(ages > ages.mean())\n",
    "\n",
    "manual_bool_values = [True, True, False, False, True, True, False, True]\n",
    "print(ages[manual_bool_values]) # 내가 직접 불을 입력해서 이대로 출력도 가능"
   ]
  },
  {
   "cell_type": "markdown",
   "metadata": {},
   "source": [
    "# 시리즈와 브로드캐스팅"
   ]
  },
  {
   "cell_type": "code",
   "execution_count": 28,
   "metadata": {},
   "outputs": [
    {
     "name": "stdout",
     "output_type": "stream",
     "text": [
      "0     74\n",
      "1    122\n",
      "2    180\n",
      "3    132\n",
      "4    112\n",
      "5     90\n",
      "6     82\n",
      "7    154\n",
      "Name: Age, dtype: int64\n",
      "0    1369\n",
      "1    3721\n",
      "2    8100\n",
      "3    4356\n",
      "4    3136\n",
      "5    2025\n",
      "6    1681\n",
      "7    5929\n",
      "Name: Age, dtype: int64\n",
      "0    137\n",
      "1    161\n",
      "2    190\n",
      "3    166\n",
      "4    156\n",
      "5    145\n",
      "6    141\n",
      "7    177\n",
      "Name: Age, dtype: int64\n",
      "0      1\n",
      "1    100\n",
      "dtype: int64\n",
      "0     38.0\n",
      "1    161.0\n",
      "2      NaN\n",
      "3      NaN\n",
      "4      NaN\n",
      "5      NaN\n",
      "6      NaN\n",
      "7      NaN\n",
      "dtype: float64\n"
     ]
    }
   ],
   "source": [
    "# 브로드캐스팅 = 시리즈 혹은 테이터프레임에 있는 모든 데이터에 대해 한 번에 연산하는 것.\n",
    "# 벡터 = 시리즈\n",
    "# 스칼라 = 단순 크기를 나타내는 데이터\n",
    "\n",
    "print(ages+ages) # 위에서 ages는 Age 컬럼을 추출해뒀음. 즉, 벡터+벡터\n",
    "print(ages*ages)\n",
    "\n",
    "print(ages+100) # 벡터+스칼라\n",
    "\n",
    "# 만약 길이가 서로 다른 벡터들을 연산하면? 길이가 같은것만 계산되고 나머진 누락값(NaN) 처리\n",
    "print(pd.Series([1,100]))\n",
    "print(ages+pd.Series([1,100]))\n",
    "\n",
    "# .sort_index() 메서드에 인자로 False를 전달하여 인덱스 역순 정렬\n",
    "# 이때, 인덱스는 바뀌지 않고 행 번호만 바뀜!!!\n",
    "rev_ages = ages.sort_index(ascending=False)\n",
    "\n",
    "# 역순으로 정렬하고 벡터끼리 더해도 위와 동일한 결과를 가지고 있더라.\n",
    "# 벡터와 벡터의 연산은 일치하는 인덱스의 값끼리 수행함"
   ]
  },
  {
   "cell_type": "markdown",
   "metadata": {},
   "source": [
    "# 데이터프레임과 불린 추출"
   ]
  },
  {
   "cell_type": "code",
   "execution_count": 29,
   "metadata": {},
   "outputs": [
    {
     "name": "stdout",
     "output_type": "stream",
     "text": [
      "                   Name        Born        Died  Age     Occupation\n",
      "1        William Gosset  1876-06-13  1937-10-16   61   Statistician\n",
      "2  Florence Nightingale  1820-05-12  1910-08-13   90          Nurse\n",
      "3           Marie Curie  1867-11-07  1934-07-04   66        Chemist\n",
      "7          Johann Gauss  1777-04-30  1855-02-23   77  Mathematician\n",
      "                Name        Born        Died  Age     Occupation\n",
      "0  Rosaline Franklin  1920-07-25  1958-04-16   37        Chemist\n",
      "1     William Gosset  1876-06-13  1937-10-16   61   Statistician\n",
      "3        Marie Curie  1867-11-07  1934-07-04   66        Chemist\n",
      "4      Rachel Carson  1907-05-27  1964-04-14   56      Biologist\n",
      "7       Johann Gauss  1777-04-30  1855-02-23   77  Mathematician\n"
     ]
    }
   ],
   "source": [
    "# 시리즈와 마찬가지로 평균보다 높은 행만 출력\n",
    "print(scientists[scientists['Age'] > scientists['Age'].mean()])\n",
    "\n",
    "# 데이터프레임의 loc 속성에 bool 벡터(리스트) 전달\n",
    "# 이때, df의 index수와 bool벡터의 길이 중 짧은거로 출력\n",
    "print(scientists.loc[[True, True, False, True, True, False, False, True]])"
   ]
  },
  {
   "cell_type": "markdown",
   "metadata": {},
   "source": [
    "# 데이터프레임과 브로드캐스팅"
   ]
  },
  {
   "cell_type": "code",
   "execution_count": 30,
   "metadata": {},
   "outputs": [
    {
     "name": "stdout",
     "output_type": "stream",
     "text": [
      "                                       Name                  Born  \\\n",
      "0        Rosaline FranklinRosaline Franklin  1920-07-251920-07-25   \n",
      "1              William GossetWilliam Gosset  1876-06-131876-06-13   \n",
      "2  Florence NightingaleFlorence Nightingale  1820-05-121820-05-12   \n",
      "3                    Marie CurieMarie Curie  1867-11-071867-11-07   \n",
      "4                Rachel CarsonRachel Carson  1907-05-271907-05-27   \n",
      "5                        John SnowJohn Snow  1813-03-151813-03-15   \n",
      "6                    Alan TuringAlan Turing  1912-06-231912-06-23   \n",
      "7                  Johann GaussJohann Gauss  1777-04-301777-04-30   \n",
      "\n",
      "                   Died  Age                            Occupation  \n",
      "0  1958-04-161958-04-16   74                        ChemistChemist  \n",
      "1  1937-10-161937-10-16  122              StatisticianStatistician  \n",
      "2  1910-08-131910-08-13  180                            NurseNurse  \n",
      "3  1934-07-041934-07-04  132                        ChemistChemist  \n",
      "4  1964-04-141964-04-14  112                    BiologistBiologist  \n",
      "5  1858-06-161858-06-16   90                    PhysicianPhysician  \n",
      "6  1954-06-071954-06-07   82  Computer ScientistComputer Scientist  \n",
      "7  1855-02-231855-02-23  154            MathematicianMathematician  \n"
     ]
    }
   ],
   "source": [
    "# 시리즈와 마찬가지로 수행되며 전부 2배로 늘어남\n",
    "print(scientists*2)\n"
   ]
  },
  {
   "cell_type": "markdown",
   "metadata": {},
   "source": [
    "# 열의 자료형 바꾸기와 새로운 열 추가하기"
   ]
  },
  {
   "cell_type": "code",
   "execution_count": 31,
   "metadata": {},
   "outputs": [
    {
     "name": "stdout",
     "output_type": "stream",
     "text": [
      "object\n",
      "object\n",
      "0   1920-07-25\n",
      "1   1876-06-13\n",
      "2   1820-05-12\n",
      "3   1867-11-07\n",
      "4   1907-05-27\n",
      "5   1813-03-15\n",
      "6   1912-06-23\n",
      "7   1777-04-30\n",
      "Name: Born, dtype: datetime64[ns]\n",
      "0   1958-04-16\n",
      "1   1937-10-16\n",
      "2   1910-08-13\n",
      "3   1934-07-04\n",
      "4   1964-04-14\n",
      "5   1858-06-16\n",
      "6   1954-06-07\n",
      "7   1855-02-23\n",
      "Name: Died, dtype: datetime64[ns]\n",
      "                   Name        Born        Died  Age    Occupation    born_dt  \\\n",
      "0     Rosaline Franklin  1920-07-25  1958-04-16   37       Chemist 1920-07-25   \n",
      "1        William Gosset  1876-06-13  1937-10-16   61  Statistician 1876-06-13   \n",
      "2  Florence Nightingale  1820-05-12  1910-08-13   90         Nurse 1820-05-12   \n",
      "3           Marie Curie  1867-11-07  1934-07-04   66       Chemist 1867-11-07   \n",
      "4         Rachel Carson  1907-05-27  1964-04-14   56     Biologist 1907-05-27   \n",
      "\n",
      "     died_dt  \n",
      "0 1958-04-16  \n",
      "1 1937-10-16  \n",
      "2 1910-08-13  \n",
      "3 1934-07-04  \n",
      "4 1964-04-14  \n",
      "                   Name        Born        Died  Age          Occupation  \\\n",
      "0     Rosaline Franklin  1920-07-25  1958-04-16   37             Chemist   \n",
      "1        William Gosset  1876-06-13  1937-10-16   61        Statistician   \n",
      "2  Florence Nightingale  1820-05-12  1910-08-13   90               Nurse   \n",
      "3           Marie Curie  1867-11-07  1934-07-04   66             Chemist   \n",
      "4         Rachel Carson  1907-05-27  1964-04-14   56           Biologist   \n",
      "5             John Snow  1813-03-15  1858-06-16   45           Physician   \n",
      "6           Alan Turing  1912-06-23  1954-06-07   41  Computer Scientist   \n",
      "7          Johann Gauss  1777-04-30  1855-02-23   77       Mathematician   \n",
      "\n",
      "     born_dt    died_dt age_days_dt  \n",
      "0 1920-07-25 1958-04-16  13779 days  \n",
      "1 1876-06-13 1937-10-16  22404 days  \n",
      "2 1820-05-12 1910-08-13  32964 days  \n",
      "3 1867-11-07 1934-07-04  24345 days  \n",
      "4 1907-05-27 1964-04-14  20777 days  \n",
      "5 1813-03-15 1858-06-16  16529 days  \n",
      "6 1912-06-23 1954-06-07  15324 days  \n",
      "7 1777-04-30 1855-02-23  28422 days  \n"
     ]
    }
   ],
   "source": [
    "print(scientists['Born'].dtype)\n",
    "print(scientists['Died'].dtype)\n",
    "\n",
    "# 날짜는 보통 .to_datetime() 메서드로 변환해줌. 메서드에 format 지정도 포함되어 있음\n",
    "born_datetime = pd.to_datetime(scientists['Born'], format='%Y-%m-%d')\n",
    "print(born_datetime)\n",
    "\n",
    "died_datetime = pd.to_datetime(scientists['Died'], format='%Y-%m-%d')\n",
    "print(died_datetime)\n",
    "\n",
    "# df에 born_dt died_dt 총 2개의 열을 추가한 것\n",
    "scientists['born_dt'], scientists['died_dt'] = (born_datetime, died_datetime)\n",
    "print(scientists.head())\n",
    "\n",
    "# 살아있던 날짜를 계산해서 출력\n",
    "scientists['age_days_dt'] = (scientists['died_dt'] - scientists['born_dt'])\n",
    "print(scientists)"
   ]
  },
  {
   "cell_type": "markdown",
   "metadata": {},
   "source": [
    "# 시리즈, 데이터프레임의 데이터 섞어보기"
   ]
  },
  {
   "cell_type": "code",
   "execution_count": 32,
   "metadata": {},
   "outputs": [
    {
     "name": "stdout",
     "output_type": "stream",
     "text": [
      "0    37\n",
      "1    61\n",
      "2    90\n",
      "3    66\n",
      "4    56\n",
      "5    45\n",
      "6    41\n",
      "7    77\n",
      "Name: Age, dtype: int64\n",
      "0    66\n",
      "1    56\n",
      "2    41\n",
      "3    77\n",
      "4    90\n",
      "5    45\n",
      "6    37\n",
      "7    61\n",
      "Name: Age, dtype: int64\n"
     ]
    },
    {
     "name": "stderr",
     "output_type": "stream",
     "text": [
      "c:\\Program Files\\Python312\\Lib\\random.py:357: SettingWithCopyWarning: \n",
      "A value is trying to be set on a copy of a slice from a DataFrame\n",
      "\n",
      "See the caveats in the documentation: https://pandas.pydata.org/pandas-docs/stable/user_guide/indexing.html#returning-a-view-versus-a-copy\n",
      "  x[i], x[j] = x[j], x[i]\n",
      "c:\\Program Files\\Python312\\Lib\\random.py:357: SettingWithCopyWarning: \n",
      "A value is trying to be set on a copy of a slice from a DataFrame\n",
      "\n",
      "See the caveats in the documentation: https://pandas.pydata.org/pandas-docs/stable/user_guide/indexing.html#returning-a-view-versus-a-copy\n",
      "  x[i], x[j] = x[j], x[i]\n",
      "c:\\Program Files\\Python312\\Lib\\random.py:357: SettingWithCopyWarning: \n",
      "A value is trying to be set on a copy of a slice from a DataFrame\n",
      "\n",
      "See the caveats in the documentation: https://pandas.pydata.org/pandas-docs/stable/user_guide/indexing.html#returning-a-view-versus-a-copy\n",
      "  x[i], x[j] = x[j], x[i]\n",
      "c:\\Program Files\\Python312\\Lib\\random.py:357: SettingWithCopyWarning: \n",
      "A value is trying to be set on a copy of a slice from a DataFrame\n",
      "\n",
      "See the caveats in the documentation: https://pandas.pydata.org/pandas-docs/stable/user_guide/indexing.html#returning-a-view-versus-a-copy\n",
      "  x[i], x[j] = x[j], x[i]\n",
      "c:\\Program Files\\Python312\\Lib\\random.py:357: SettingWithCopyWarning: \n",
      "A value is trying to be set on a copy of a slice from a DataFrame\n",
      "\n",
      "See the caveats in the documentation: https://pandas.pydata.org/pandas-docs/stable/user_guide/indexing.html#returning-a-view-versus-a-copy\n",
      "  x[i], x[j] = x[j], x[i]\n",
      "c:\\Program Files\\Python312\\Lib\\random.py:357: SettingWithCopyWarning: \n",
      "A value is trying to be set on a copy of a slice from a DataFrame\n",
      "\n",
      "See the caveats in the documentation: https://pandas.pydata.org/pandas-docs/stable/user_guide/indexing.html#returning-a-view-versus-a-copy\n",
      "  x[i], x[j] = x[j], x[i]\n",
      "c:\\Program Files\\Python312\\Lib\\random.py:357: SettingWithCopyWarning: \n",
      "A value is trying to be set on a copy of a slice from a DataFrame\n",
      "\n",
      "See the caveats in the documentation: https://pandas.pydata.org/pandas-docs/stable/user_guide/indexing.html#returning-a-view-versus-a-copy\n",
      "  x[i], x[j] = x[j], x[i]\n",
      "c:\\Program Files\\Python312\\Lib\\random.py:357: SettingWithCopyWarning: \n",
      "A value is trying to be set on a copy of a slice from a DataFrame\n",
      "\n",
      "See the caveats in the documentation: https://pandas.pydata.org/pandas-docs/stable/user_guide/indexing.html#returning-a-view-versus-a-copy\n",
      "  x[i], x[j] = x[j], x[i]\n",
      "c:\\Program Files\\Python312\\Lib\\random.py:357: SettingWithCopyWarning: \n",
      "A value is trying to be set on a copy of a slice from a DataFrame\n",
      "\n",
      "See the caveats in the documentation: https://pandas.pydata.org/pandas-docs/stable/user_guide/indexing.html#returning-a-view-versus-a-copy\n",
      "  x[i], x[j] = x[j], x[i]\n",
      "c:\\Program Files\\Python312\\Lib\\random.py:357: SettingWithCopyWarning: \n",
      "A value is trying to be set on a copy of a slice from a DataFrame\n",
      "\n",
      "See the caveats in the documentation: https://pandas.pydata.org/pandas-docs/stable/user_guide/indexing.html#returning-a-view-versus-a-copy\n",
      "  x[i], x[j] = x[j], x[i]\n",
      "c:\\Program Files\\Python312\\Lib\\random.py:357: SettingWithCopyWarning: \n",
      "A value is trying to be set on a copy of a slice from a DataFrame\n",
      "\n",
      "See the caveats in the documentation: https://pandas.pydata.org/pandas-docs/stable/user_guide/indexing.html#returning-a-view-versus-a-copy\n",
      "  x[i], x[j] = x[j], x[i]\n",
      "c:\\Program Files\\Python312\\Lib\\random.py:357: SettingWithCopyWarning: \n",
      "A value is trying to be set on a copy of a slice from a DataFrame\n",
      "\n",
      "See the caveats in the documentation: https://pandas.pydata.org/pandas-docs/stable/user_guide/indexing.html#returning-a-view-versus-a-copy\n",
      "  x[i], x[j] = x[j], x[i]\n",
      "c:\\Program Files\\Python312\\Lib\\random.py:357: SettingWithCopyWarning: \n",
      "A value is trying to be set on a copy of a slice from a DataFrame\n",
      "\n",
      "See the caveats in the documentation: https://pandas.pydata.org/pandas-docs/stable/user_guide/indexing.html#returning-a-view-versus-a-copy\n",
      "  x[i], x[j] = x[j], x[i]\n",
      "c:\\Program Files\\Python312\\Lib\\random.py:357: SettingWithCopyWarning: \n",
      "A value is trying to be set on a copy of a slice from a DataFrame\n",
      "\n",
      "See the caveats in the documentation: https://pandas.pydata.org/pandas-docs/stable/user_guide/indexing.html#returning-a-view-versus-a-copy\n",
      "  x[i], x[j] = x[j], x[i]\n"
     ]
    }
   ],
   "source": [
    "print(scientists['Age']) #기존의 시리즈(컬럼) 확인\n",
    "\n",
    "import random\n",
    "\n",
    "# 42로 seed를 생성했으니 같은 난수 알고리즘을 사용하고 싶으면 그때, 42로 생성하면 돼\n",
    "random.seed(42)\n",
    "\n",
    "# shuffle에 Age 시리즈 전달\n",
    "random.shuffle(scientists['Age']) \n",
    "print(scientists['Age'])"
   ]
  },
  {
   "cell_type": "markdown",
   "metadata": {},
   "source": [
    "# 데이터프레임의 열 삭제하기"
   ]
  },
  {
   "cell_type": "code",
   "execution_count": 33,
   "metadata": {},
   "outputs": [
    {
     "name": "stdout",
     "output_type": "stream",
     "text": [
      "Index(['Name', 'Born', 'Died', 'Age', 'Occupation', 'born_dt', 'died_dt',\n",
      "       'age_days_dt'],\n",
      "      dtype='object')\n",
      "Index(['Name', 'Born', 'Died', 'Occupation', 'born_dt', 'died_dt',\n",
      "       'age_days_dt'],\n",
      "      dtype='object')\n"
     ]
    }
   ],
   "source": [
    "# 우선 현재 컬럼 확인\n",
    "print(scientists.columns) \n",
    "\n",
    "# axis 인잣값이 0이면 행, 1이면 열을 기준으로 연산이 수행된다\n",
    "# 열을 삭제하는 경우엔 인잣값 1을 전달해야 돼. 기본값이 0이야\n",
    "scientists_dropped = scientists.drop(['Age'], axis=1) \n",
    "print(scientists_dropped.columns)\n"
   ]
  },
  {
   "cell_type": "markdown",
   "metadata": {},
   "source": [
    "# 피클 형식으로 저장하기"
   ]
  },
  {
   "cell_type": "code",
   "execution_count": 34,
   "metadata": {},
   "outputs": [
    {
     "name": "stdout",
     "output_type": "stream",
     "text": [
      "0       Rosaline Franklin\n",
      "1          William Gosset\n",
      "2    Florence Nightingale\n",
      "3             Marie Curie\n",
      "4           Rachel Carson\n",
      "5               John Snow\n",
      "6             Alan Turing\n",
      "7            Johann Gauss\n",
      "Name: Name, dtype: object\n",
      "                   Name        Born        Died  Age          Occupation  \\\n",
      "0     Rosaline Franklin  1920-07-25  1958-04-16   66             Chemist   \n",
      "1        William Gosset  1876-06-13  1937-10-16   56        Statistician   \n",
      "2  Florence Nightingale  1820-05-12  1910-08-13   41               Nurse   \n",
      "3           Marie Curie  1867-11-07  1934-07-04   77             Chemist   \n",
      "4         Rachel Carson  1907-05-27  1964-04-14   90           Biologist   \n",
      "5             John Snow  1813-03-15  1858-06-16   45           Physician   \n",
      "6           Alan Turing  1912-06-23  1954-06-07   37  Computer Scientist   \n",
      "7          Johann Gauss  1777-04-30  1855-02-23   61       Mathematician   \n",
      "\n",
      "     born_dt    died_dt age_days_dt  \n",
      "0 1920-07-25 1958-04-16  13779 days  \n",
      "1 1876-06-13 1937-10-16  22404 days  \n",
      "2 1820-05-12 1910-08-13  32964 days  \n",
      "3 1867-11-07 1934-07-04  24345 days  \n",
      "4 1907-05-27 1964-04-14  20777 days  \n",
      "5 1813-03-15 1858-06-16  16529 days  \n",
      "6 1912-06-23 1954-06-07  15324 days  \n",
      "7 1777-04-30 1855-02-23  28422 days  \n"
     ]
    }
   ],
   "source": [
    "# 피클은 데이터를 binary 형태로 직렬화한 오브젝트를 저장하는 방법\n",
    "# csv보다 빠른 속도, data의 모든 type을 그대로 보존, 단 보안이 약함\n",
    "\n",
    "# .to_pickle 메서드로 시리즈를 피클로 저장\n",
    "names = scientists['Name']\n",
    "names.to_pickle('../output/scientists_names_series.pickle')\n",
    "\n",
    "# .to_pickle 메서드로 데이터프레임을 피클로 저장\n",
    "scientists.to_pickle('../output/scientists_df.pickle')\n",
    "\n",
    "# to_pickle 메서드로 저장한 피클을 다시 불러올 땐, 반드시 read_pickle\n",
    "# read_pickle 메서드로 시리즈/데이터프레임 객체를 pickle 파일에서 불러옴\n",
    "scientist_names_from_pickle = pd.read_pickle('../output/scientists_names_series.pickle')\n",
    "print(scientist_names_from_pickle)\n",
    "\n",
    "scientists_from_pickle = pd.read_pickle('../output/scientists_df.pickle')\n",
    "print(scientists_from_pickle)\n"
   ]
  },
  {
   "cell_type": "markdown",
   "metadata": {},
   "source": [
    "# CSV 파일과 TSV 파일로 저장하기"
   ]
  },
  {
   "cell_type": "code",
   "execution_count": 35,
   "metadata": {},
   "outputs": [],
   "source": [
    "# CSV 파일은 데이터를 쉼표로 구분. TSV 파일은 데이터를 탭으로 구분하여 저장\n",
    "# 단, 설정으로 변경가능"
   ]
  },
  {
   "cell_type": "code",
   "execution_count": 36,
   "metadata": {},
   "outputs": [],
   "source": [
    "# .read_csv 메서드는 csv파일을 읽어 df로 변환해주는 것\n",
    "# .to_csv 메서드로 시리즈 및 데이터프레임을 CSV 파일로 저장\n",
    "\n",
    "# 시리즈 저장\n",
    "names.to_csv('../output/scientist_names_series.csv')\n",
    " \n",
    "# 데이터프레임 저장\n",
    "# sep 인잣값으로 '\\t'를 지정하고 파일의 확장자를 '.tsv'로 지정하면 TSV 파일로 저장가능\n",
    "scientists.to_csv('../output/scientists_df.tsv', sep='\\t') "
   ]
  }
 ],
 "metadata": {
  "kernelspec": {
   "display_name": "Python 3",
   "language": "python",
   "name": "python3"
  },
  "language_info": {
   "codemirror_mode": {
    "name": "ipython",
    "version": 3
   },
   "file_extension": ".py",
   "mimetype": "text/x-python",
   "name": "python",
   "nbconvert_exporter": "python",
   "pygments_lexer": "ipython3",
   "version": "3.12.2"
  }
 },
 "nbformat": 4,
 "nbformat_minor": 2
}
